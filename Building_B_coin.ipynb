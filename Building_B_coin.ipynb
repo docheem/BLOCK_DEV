{
  "nbformat": 4,
  "nbformat_minor": 0,
  "metadata": {
    "colab": {
      "provenance": [],
      "authorship_tag": "ABX9TyMjBKYpNulM9b3h9Kzw2S7M",
      "include_colab_link": true
    },
    "kernelspec": {
      "name": "python3",
      "display_name": "Python 3"
    },
    "language_info": {
      "name": "python"
    }
  },
  "cells": [
    {
      "cell_type": "markdown",
      "metadata": {
        "id": "view-in-github",
        "colab_type": "text"
      },
      "source": [
        "<a href=\"https://colab.research.google.com/github/docheem/BLOCK_DEV/blob/main/Building_B_coin.ipynb\" target=\"_parent\"><img src=\"https://colab.research.google.com/assets/colab-badge.svg\" alt=\"Open In Colab\"/></a>"
      ]
    },
    {
      "cell_type": "markdown",
      "source": [
        "# B-coin Implementation\n",
        "\n",
        "This project illustrates a decentralize cryptocurrency implemented in Python on top of blockchain technology, where I have:\n",
        "\n",
        " - Structure the blockchain\n",
        " - add transactions\n",
        " - adding the node\n",
        " - replacing the chain with the longest chain\n",
        "\n"
      ],
      "metadata": {
        "id": "p40Vr7uEwEO1"
      }
    },
    {
      "cell_type": "code",
      "source": [
        "import datetime\n",
        "import hashlib\n",
        "from pprint import pprint\n",
        "import json\n"
      ],
      "metadata": {
        "id": "WlPDMClf7RuZ"
      },
      "execution_count": null,
      "outputs": []
    },
    {
      "cell_type": "markdown",
      "source": [
        "The Implementation of Our Blockchain"
      ],
      "metadata": {
        "id": "ca-KS4IB57gU"
      }
    },
    {
      "cell_type": "code",
      "execution_count": null,
      "metadata": {
        "id": "4KT82qzhvzG9"
      },
      "outputs": [],
      "source": [
        "class Blockchain:\n",
        "\n",
        "  def __init__(self):\n",
        "\n",
        "  # our whole chain\n",
        "    self.chain = []\n",
        "    self.transactions = []\n",
        "\n",
        "  # create genesis block\n",
        "    self.create_block(proof = 1, previous_hash = '0') # This is like creating a page with some things inside it. You need to show that you did some work to make this block, and you're connecting it to the previous page or block, like making your book bigger.\n",
        "\n",
        "    self.nodes = set() # making a lit of friend to help keep track of the track\n"
      ]
    },
    {
      "cell_type": "markdown",
      "source": [
        "Data structure and Block creation\n",
        "\n"
      ],
      "metadata": {
        "id": "BJEW-XW86DNg"
      }
    },
    {
      "cell_type": "code",
      "source": [
        "# Method to create blocks which hold 5 fields\n",
        "# think of this as written a book\n",
        "\n",
        "def create_block(self, proof, previous_hash):\n",
        "\n",
        "  # Write down the page number of the book\n",
        "  block = {'index': len(self.chain) + 1,\n",
        "\n",
        "            # writting down the time you made the pages\n",
        "           'timestamp': str(datetime.datetime.now()),\n",
        "\n",
        "            # witting a special# to show that you did some work\n",
        "           'proof': proof,\n",
        "\n",
        "            # writing the number of the page before this one\n",
        "           'previous_hash': previous_hash,\n",
        "\n",
        "            # writing the stories collected\n",
        "           'transactions': self.transactions}\n",
        "\n",
        "\n",
        "  # A list where we keep our stories\n",
        "  self.transactions = []\n",
        "\n",
        "  # we're adding the completed page (block) to our storybook (chain).\n",
        "  # We've filled up the block with the page number, time, stories, and other detail\n",
        "  self.chain.append(block)\n",
        "\n",
        "  # showing our finished page to everyone so they can see what we've added to our storybook\n",
        "  return block\n"
      ],
      "metadata": {
        "id": "bIt45BKN_tTh"
      },
      "execution_count": null,
      "outputs": []
    },
    {
      "cell_type": "code",
      "source": [
        "#Retrieving the old block\n",
        "# Grabbing the last page or latest page and show it to whoever is interested.\n",
        "def get_previous_block(self):\n",
        "\n",
        "  return self.chain[-1]\n",
        "\n"
      ],
      "metadata": {
        "id": "qe7FDM8m7SNX"
      },
      "execution_count": null,
      "outputs": []
    },
    {
      "cell_type": "markdown",
      "source": [
        "#Implementing proof of work (PoW)"
      ],
      "metadata": {
        "id": "p1gmXxhA9xyx"
      }
    },
    {
      "cell_type": "code",
      "source": [
        "# This of this PoW function as a game where you need the previous block to be able to create a new block\n",
        "\n",
        "\n",
        "def proof_of_work(self, previous_proof):\n",
        "\n",
        "  new_proof = 1\n",
        "\n",
        "  check_proof = False\n",
        "\n",
        "  # Creating Hash function loop to keep guessing the the new special # or hash\n",
        "  while check_proof is False:\n",
        "\n",
        "    hash_operation = hashlib.sha256(str(new_proof**2 - previous_proof**2).encode()).hexdigest()\n",
        "\n",
        "    # The goal is to have four leading zeros in the beginning of the resultant hash\n",
        "    if hash_operation[:4] == '0000':\n",
        "\n",
        "      check_proof = True\n",
        "\n",
        "    # Increase your guess by 1 and move on to the next round of the puzzle.\n",
        "    else:\n",
        "      new_proof += 1\n",
        "\n",
        "  # Telling everyone about the new hash or special# or hash and you have founded with the 4 leading zeros.\n",
        "  return new_proof\n",
        "\n",
        "\n"
      ],
      "metadata": {
        "id": "FZZA4BK87RxC"
      },
      "execution_count": null,
      "outputs": []
    },
    {
      "cell_type": "markdown",
      "source": [
        "Hashing"
      ],
      "metadata": {
        "id": "zHD7Wuwd_U8O"
      }
    },
    {
      "cell_type": "code",
      "source": [
        "def hash(self, block):\n",
        "\n",
        "  # turning the block's information into a special code\n",
        "  encoded_block = json.dumps(block,\n",
        "\n",
        "                             sort_keys = True).encode()\n",
        "\n",
        "  # using a special tool (sha256) to turn that code into a unique fingerprint or\n",
        "  # language that computers can understand\n",
        "\n",
        "  return hashlib.sha256(encoded_block).hexdigest()\n",
        "\n"
      ],
      "metadata": {
        "id": "gmEjDREm7RzE"
      },
      "execution_count": null,
      "outputs": []
    },
    {
      "cell_type": "markdown",
      "source": [
        "# Implementation of Chains Validations"
      ],
      "metadata": {
        "id": "MvmVnlnS8INb"
      }
    },
    {
      "cell_type": "code",
      "source": [
        "# think of this code as a friend who is checking to see if the\n",
        "# pages in our story book or block is true or have been tampered with\n",
        "def is_chain_valid(self, block):\n",
        "\n",
        "  # the friend look at the very first page of our book\n",
        "  # because its important to know where the story begin\n",
        "  previous_block = self.chain[0]\n",
        "\n",
        "   # our friend is turning the second page to see if everything matches\n",
        "  block_index = 1\n",
        "\n",
        "  # as long as there are blocks or pages, our friend will keep checking\n",
        "  while block_index < len(self.chain):\n",
        "\n",
        "   # The friend goes to the current page they're looking at.\n",
        "   # It's like they're focusing on the puzzle answer on this page\n",
        "    block = self.chain[block_index]\n",
        "\n",
        "    # the friend is Checking to see if the previous hash of the current block\n",
        "    # or pages of the story matches the hash of the previous block or pages\n",
        "    if block['previous_hash'] != self.hash(previous_block):\n",
        "\n",
        "      return False\n",
        "\n",
        "    # the friend Check to see if the resultant hash of the proof**2 - previous_proof**2 does not have 4 leading 0s\n",
        "    previous_proof = previous_block['proof']\n",
        "\n",
        "    # our friend is looking at the puzzle answer on the current page\n",
        "    # and this is the new secret number they found.\n",
        "    proof = block['proof']\n",
        "\n",
        "\n",
        "    # our friend is doing a soecial test to check if the hashes hashes on these pages create hash that starts with four zeros.\n",
        "    hash_operation = hashlib.sha256(str(proof**2 - previous_proof**2).encode()).hexdigest()\n",
        "\n",
        "    # if the hashes does stars with '0000', the proof of work did not solved\n",
        "    if hash_operation[:4] != '0000':\n",
        "\n",
        "      return False\n",
        "\n",
        "     # after our friend finish checking this page, they move to the next one. It's like turning the page in our storybook\n",
        "    previous_block = block\n",
        "\n",
        "    # our friend is moving to the next page. This helps them keep track of where they are in the storybook.\n",
        "    block_index += 1\n",
        "\n",
        "  # if everything is good, our friend will confirm that this story is real\n",
        "  # or original and have not been tampered with\n",
        "  return True\n",
        "\n",
        "\n"
      ],
      "metadata": {
        "id": "gQSZBb3x8LHl"
      },
      "execution_count": null,
      "outputs": []
    },
    {
      "cell_type": "markdown",
      "source": [
        "# Adding Transactions\n",
        "\n",
        "We'll send it to Postman in json format as a sample request"
      ],
      "metadata": {
        "id": "cR6AxeWJ5T9a"
      }
    },
    {
      "cell_type": "code",
      "source": [
        "# add transactions\n",
        "\n",
        "def add_transaction(self, sender, receiver, amount):\n",
        "\n",
        "  # creating a transaction or writing a story in the book\n",
        "  self.transactions.append({'sender': sender,\n",
        "                            'receiver': receiver,\n",
        "                            'amount': amount})\n",
        "\n",
        "  # We're looking at the last page in the storybook.\n",
        "  # This page tells us where the story left off,\n",
        "  # so you know where to add the new note or new block\n",
        "  get_previous_block = self.get_previous_block()\n",
        "\n",
        "\n",
        "  # After you write the note, you want to show the page number where you added it.\n",
        "  # This page number is one more than the last page, so it's like saying,\n",
        "  # \"This new note is on the next page.\"\n",
        "\n",
        "  return get_previous_block['index'] + 1\n"
      ],
      "metadata": {
        "id": "2hUXuoXj5Tb2"
      },
      "execution_count": null,
      "outputs": []
    },
    {
      "cell_type": "markdown",
      "source": [
        "# Adding Nodes\n",
        "Yiou can think of nodes as a list of friends who wants to join the network and help you keep track of everything\n"
      ],
      "metadata": {
        "id": "sfeoQHkC9C1N"
      }
    },
    {
      "cell_type": "code",
      "source": [
        "from urllib.parse import urlparse"
      ],
      "metadata": {
        "id": "P-WD0Q79-AhL"
      },
      "execution_count": null,
      "outputs": []
    },
    {
      "cell_type": "code",
      "source": [
        "# adding new members or friend to the list\n",
        "def add_node(self,address):\n",
        "\n",
        "    #collecting friends or user info\n",
        "    parsed_url = urlparse(address)\n",
        "\n",
        "    # adding our friend to the list,\n",
        "    # its like writing down their info\n",
        "    self.nodes.add(parsed_url.netloc)"
      ],
      "metadata": {
        "id": "RTxzet-h8LT0"
      },
      "execution_count": null,
      "outputs": []
    },
    {
      "cell_type": "markdown",
      "source": [
        "#Chain Replacement\n",
        "replacing the chain with the longest chain"
      ],
      "metadata": {
        "id": "vVU4LwhkC7C7"
      }
    },
    {
      "cell_type": "code",
      "source": [
        "import requests"
      ],
      "metadata": {
        "id": "RGXgiiolDisM"
      },
      "execution_count": null,
      "outputs": []
    },
    {
      "cell_type": "code",
      "source": [
        "# Replacing the chain\n",
        "def replace_chain(self):\n",
        "\n",
        "  # Get the longest chain or all of our friends\n",
        "  network = self.nodes\n",
        "  # Chcking to see who has the longest chain, but we dont know yet\n",
        "  longes_chain = None\n",
        "\n",
        "  # compare storybook lengths.\n",
        "  # The length of our own storybook or chain is our starting point.\n",
        "  max_length = len(self.chain)\n",
        "\n",
        "  # Going through each friend's address to check\n",
        "  for node in network:\n",
        "    # sending a message to each friend and asking,\n",
        "    # \"Hey, can you show me your storybook or chain?\"\n",
        "    response = requests.get(f'http://{node}/get_chain')\n",
        "\n",
        "    # friend answers and says,\n",
        "    # \"Sure! Here's my storybook,\" then we know they're sharing.\n",
        "    if response.status_code == 200:\n",
        "\n",
        "      # checking how many pages are in their storybook\n",
        "      length = response.json()['length']\n",
        "\n",
        "      # also looking at their storybook.\n",
        "      # It's like checking what's written on their pages.\n",
        "      chain = response.json()['chain']\n",
        "\n",
        "      # if the length of their storybook or chains is longer than mine\n",
        "      #  we will update our chain to the longest chain\n",
        "      if length > max_length and self.is_chain_valid(chain):\n",
        "\n",
        "        # we're updating our idea of what's the longest storybook\n",
        "        max_length = length\n",
        "\n",
        "        # we remember their storybook have the longest chain so far\n",
        "        longest_chain = chain\n",
        "\n",
        "  # if the longest chain is the longest chain\n",
        "  if longest_chain:\n",
        "\n",
        "    # adding the longest chain to our chain\n",
        "    self.chain = longest_chain\n",
        "\n",
        "    # if we found someone, we switche the chain\n",
        "    return True\n",
        "\n",
        "  # if we didnt find someone, we will not switche the chain\n",
        "  return False\n"
      ],
      "metadata": {
        "id": "Ebiq8ZDA8LWL"
      },
      "execution_count": null,
      "outputs": []
    }
  ]
}